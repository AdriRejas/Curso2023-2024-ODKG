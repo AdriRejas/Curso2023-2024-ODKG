{
 "cells": [
  {
   "cell_type": "code",
   "execution_count": 24,
   "id": "initial_id",
   "metadata": {
    "collapsed": true,
    "ExecuteTime": {
     "end_time": "2023-10-20T15:07:58.813622Z",
     "start_time": "2023-10-20T15:07:58.809700Z"
    }
   },
   "outputs": [],
   "source": [
    "import pandas as pd"
   ]
  },
  {
   "cell_type": "markdown",
   "source": [],
   "metadata": {
    "collapsed": false
   },
   "id": "f2df23612b935fae"
  },
  {
   "cell_type": "code",
   "execution_count": 25,
   "outputs": [
    {
     "data": {
      "text/plain": "     IPEDSID          2023          2022 2021 2020          2019 2018 2017  \\\n0     168342             1             1    1    1             1    1    1   \n1     164465             2             2    2    2             2    2    2   \n2     121345             3             4    4    5             5    6    7   \n3     216287             4             3    3    3             3    3    4   \n4     168218             5             5    4    3             3    3    3   \n..       ...           ...           ...  ...  ...           ...  ...  ...   \n149   233718  T2 (156-201)           165  162  154           127  134  140   \n150   199865  T2 (156-201)  T2 (168-222)  162  160           143  160  159   \n151   154527  T2 (156-201)           165  162  148           143  128  132   \n152   197230  T2 (156-201)           146  136  124  T2 (173-229)  168  174   \n153   179946  T2 (156-201)           158  155  157           155  147    ?   \n\n        2016 2015  ...          1995          1994          1993  \\\n0          1    1  ...             2             2             1   \n1          2    2  ...             1             1             2   \n2          4    5  ...             5             5             5   \n3          3    3  ...             3             3             3   \n4          4    4  ...             4             4             4   \n..       ...  ...  ...           ...           ...           ...   \n149  No Rank  116  ...    T2 (41-80)   Q3 (71-105)    Q2 (36-70)   \n150      164  165  ...       No Rank       No Rank       No Rank   \n151      143  159  ...  T4 (121-160)  Q4 (106-140)  Q4 (106-140)   \n152      136  148  ...   T3 (81-120)    Q2 (36-70)    Q2 (36-70)   \n153      148  159  ...  T4 (121-160)       No Rank       No Rank   \n\n             1992          1991     1990     1989     1988     1986     1984  \n0               1             3        3        3        1        1        2  \n1               3             1        2        2        4        3        1  \n2               5             6        4        5        6        7        9  \n3               2             2        1        1        2        2        2  \n4               6             5        5        4        8        8        6  \n..            ...           ...      ...      ...      ...      ...      ...  \n149    Q2 (36-70)    Q2 (37-71)  No Rank  No Rank  No Rank  No Rank  No Rank  \n150       No Rank       No Rank  No Rank  No Rank  No Rank  No Rank  No Rank  \n151  Q4 (106-140)  Q4 (107-141)  No Rank  No Rank  No Rank  No Rank  No Rank  \n152   Q3 (71-105)    Q2 (37-71)  No Rank  No Rank  No Rank  No Rank  No Rank  \n153       No Rank       No Rank  No Rank  No Rank  No Rank  No Rank  No Rank  \n\n[154 rows x 39 columns]",
      "text/html": "<div>\n<style scoped>\n    .dataframe tbody tr th:only-of-type {\n        vertical-align: middle;\n    }\n\n    .dataframe tbody tr th {\n        vertical-align: top;\n    }\n\n    .dataframe thead th {\n        text-align: right;\n    }\n</style>\n<table border=\"1\" class=\"dataframe\">\n  <thead>\n    <tr style=\"text-align: right;\">\n      <th></th>\n      <th>IPEDSID</th>\n      <th>2023</th>\n      <th>2022</th>\n      <th>2021</th>\n      <th>2020</th>\n      <th>2019</th>\n      <th>2018</th>\n      <th>2017</th>\n      <th>2016</th>\n      <th>2015</th>\n      <th>...</th>\n      <th>1995</th>\n      <th>1994</th>\n      <th>1993</th>\n      <th>1992</th>\n      <th>1991</th>\n      <th>1990</th>\n      <th>1989</th>\n      <th>1988</th>\n      <th>1986</th>\n      <th>1984</th>\n    </tr>\n  </thead>\n  <tbody>\n    <tr>\n      <th>0</th>\n      <td>168342</td>\n      <td>1</td>\n      <td>1</td>\n      <td>1</td>\n      <td>1</td>\n      <td>1</td>\n      <td>1</td>\n      <td>1</td>\n      <td>1</td>\n      <td>1</td>\n      <td>...</td>\n      <td>2</td>\n      <td>2</td>\n      <td>1</td>\n      <td>1</td>\n      <td>3</td>\n      <td>3</td>\n      <td>3</td>\n      <td>1</td>\n      <td>1</td>\n      <td>2</td>\n    </tr>\n    <tr>\n      <th>1</th>\n      <td>164465</td>\n      <td>2</td>\n      <td>2</td>\n      <td>2</td>\n      <td>2</td>\n      <td>2</td>\n      <td>2</td>\n      <td>2</td>\n      <td>2</td>\n      <td>2</td>\n      <td>...</td>\n      <td>1</td>\n      <td>1</td>\n      <td>2</td>\n      <td>3</td>\n      <td>1</td>\n      <td>2</td>\n      <td>2</td>\n      <td>4</td>\n      <td>3</td>\n      <td>1</td>\n    </tr>\n    <tr>\n      <th>2</th>\n      <td>121345</td>\n      <td>3</td>\n      <td>4</td>\n      <td>4</td>\n      <td>5</td>\n      <td>5</td>\n      <td>6</td>\n      <td>7</td>\n      <td>4</td>\n      <td>5</td>\n      <td>...</td>\n      <td>5</td>\n      <td>5</td>\n      <td>5</td>\n      <td>5</td>\n      <td>6</td>\n      <td>4</td>\n      <td>5</td>\n      <td>6</td>\n      <td>7</td>\n      <td>9</td>\n    </tr>\n    <tr>\n      <th>3</th>\n      <td>216287</td>\n      <td>4</td>\n      <td>3</td>\n      <td>3</td>\n      <td>3</td>\n      <td>3</td>\n      <td>3</td>\n      <td>4</td>\n      <td>3</td>\n      <td>3</td>\n      <td>...</td>\n      <td>3</td>\n      <td>3</td>\n      <td>3</td>\n      <td>2</td>\n      <td>2</td>\n      <td>1</td>\n      <td>1</td>\n      <td>2</td>\n      <td>2</td>\n      <td>2</td>\n    </tr>\n    <tr>\n      <th>4</th>\n      <td>168218</td>\n      <td>5</td>\n      <td>5</td>\n      <td>4</td>\n      <td>3</td>\n      <td>3</td>\n      <td>3</td>\n      <td>3</td>\n      <td>4</td>\n      <td>4</td>\n      <td>...</td>\n      <td>4</td>\n      <td>4</td>\n      <td>4</td>\n      <td>6</td>\n      <td>5</td>\n      <td>5</td>\n      <td>4</td>\n      <td>8</td>\n      <td>8</td>\n      <td>6</td>\n    </tr>\n    <tr>\n      <th>...</th>\n      <td>...</td>\n      <td>...</td>\n      <td>...</td>\n      <td>...</td>\n      <td>...</td>\n      <td>...</td>\n      <td>...</td>\n      <td>...</td>\n      <td>...</td>\n      <td>...</td>\n      <td>...</td>\n      <td>...</td>\n      <td>...</td>\n      <td>...</td>\n      <td>...</td>\n      <td>...</td>\n      <td>...</td>\n      <td>...</td>\n      <td>...</td>\n      <td>...</td>\n      <td>...</td>\n    </tr>\n    <tr>\n      <th>149</th>\n      <td>233718</td>\n      <td>T2 (156-201)</td>\n      <td>165</td>\n      <td>162</td>\n      <td>154</td>\n      <td>127</td>\n      <td>134</td>\n      <td>140</td>\n      <td>No Rank</td>\n      <td>116</td>\n      <td>...</td>\n      <td>T2 (41-80)</td>\n      <td>Q3 (71-105)</td>\n      <td>Q2 (36-70)</td>\n      <td>Q2 (36-70)</td>\n      <td>Q2 (37-71)</td>\n      <td>No Rank</td>\n      <td>No Rank</td>\n      <td>No Rank</td>\n      <td>No Rank</td>\n      <td>No Rank</td>\n    </tr>\n    <tr>\n      <th>150</th>\n      <td>199865</td>\n      <td>T2 (156-201)</td>\n      <td>T2 (168-222)</td>\n      <td>162</td>\n      <td>160</td>\n      <td>143</td>\n      <td>160</td>\n      <td>159</td>\n      <td>164</td>\n      <td>165</td>\n      <td>...</td>\n      <td>No Rank</td>\n      <td>No Rank</td>\n      <td>No Rank</td>\n      <td>No Rank</td>\n      <td>No Rank</td>\n      <td>No Rank</td>\n      <td>No Rank</td>\n      <td>No Rank</td>\n      <td>No Rank</td>\n      <td>No Rank</td>\n    </tr>\n    <tr>\n      <th>151</th>\n      <td>154527</td>\n      <td>T2 (156-201)</td>\n      <td>165</td>\n      <td>162</td>\n      <td>148</td>\n      <td>143</td>\n      <td>128</td>\n      <td>132</td>\n      <td>143</td>\n      <td>159</td>\n      <td>...</td>\n      <td>T4 (121-160)</td>\n      <td>Q4 (106-140)</td>\n      <td>Q4 (106-140)</td>\n      <td>Q4 (106-140)</td>\n      <td>Q4 (107-141)</td>\n      <td>No Rank</td>\n      <td>No Rank</td>\n      <td>No Rank</td>\n      <td>No Rank</td>\n      <td>No Rank</td>\n    </tr>\n    <tr>\n      <th>152</th>\n      <td>197230</td>\n      <td>T2 (156-201)</td>\n      <td>146</td>\n      <td>136</td>\n      <td>124</td>\n      <td>T2 (173-229)</td>\n      <td>168</td>\n      <td>174</td>\n      <td>136</td>\n      <td>148</td>\n      <td>...</td>\n      <td>T3 (81-120)</td>\n      <td>Q2 (36-70)</td>\n      <td>Q2 (36-70)</td>\n      <td>Q3 (71-105)</td>\n      <td>Q2 (37-71)</td>\n      <td>No Rank</td>\n      <td>No Rank</td>\n      <td>No Rank</td>\n      <td>No Rank</td>\n      <td>No Rank</td>\n    </tr>\n    <tr>\n      <th>153</th>\n      <td>179946</td>\n      <td>T2 (156-201)</td>\n      <td>158</td>\n      <td>155</td>\n      <td>157</td>\n      <td>155</td>\n      <td>147</td>\n      <td>?</td>\n      <td>148</td>\n      <td>159</td>\n      <td>...</td>\n      <td>T4 (121-160)</td>\n      <td>No Rank</td>\n      <td>No Rank</td>\n      <td>No Rank</td>\n      <td>No Rank</td>\n      <td>No Rank</td>\n      <td>No Rank</td>\n      <td>No Rank</td>\n      <td>No Rank</td>\n      <td>No Rank</td>\n    </tr>\n  </tbody>\n</table>\n<p>154 rows × 39 columns</p>\n</div>"
     },
     "execution_count": 25,
     "metadata": {},
     "output_type": "execute_result"
    }
   ],
   "source": [
    "data = pd.read_csv(\"/Users/serms/git/ODKG/HandsOn/Group08/csv2/US-News-Rankings-Liberal-Arts-Colleges-Through-2023-updated.csv\")\n",
    "data"
   ],
   "metadata": {
    "collapsed": false,
    "ExecuteTime": {
     "end_time": "2023-10-20T15:07:58.836221Z",
     "start_time": "2023-10-20T15:07:58.815617Z"
    }
   },
   "id": "8fee0528b87d7e"
  },
  {
   "cell_type": "code",
   "execution_count": 26,
   "outputs": [
    {
     "data": {
      "text/plain": "      IPEDSID  Year  Ranking\n0      168342  2023        1\n1      164465  2023        2\n2      121345  2023        3\n3      216287  2023        4\n4      168218  2023        5\n...       ...   ...      ...\n5847   233718  1984  No Rank\n5848   199865  1984  No Rank\n5849   154527  1984  No Rank\n5850   197230  1984  No Rank\n5851   179946  1984  No Rank\n\n[5852 rows x 3 columns]",
      "text/html": "<div>\n<style scoped>\n    .dataframe tbody tr th:only-of-type {\n        vertical-align: middle;\n    }\n\n    .dataframe tbody tr th {\n        vertical-align: top;\n    }\n\n    .dataframe thead th {\n        text-align: right;\n    }\n</style>\n<table border=\"1\" class=\"dataframe\">\n  <thead>\n    <tr style=\"text-align: right;\">\n      <th></th>\n      <th>IPEDSID</th>\n      <th>Year</th>\n      <th>Ranking</th>\n    </tr>\n  </thead>\n  <tbody>\n    <tr>\n      <th>0</th>\n      <td>168342</td>\n      <td>2023</td>\n      <td>1</td>\n    </tr>\n    <tr>\n      <th>1</th>\n      <td>164465</td>\n      <td>2023</td>\n      <td>2</td>\n    </tr>\n    <tr>\n      <th>2</th>\n      <td>121345</td>\n      <td>2023</td>\n      <td>3</td>\n    </tr>\n    <tr>\n      <th>3</th>\n      <td>216287</td>\n      <td>2023</td>\n      <td>4</td>\n    </tr>\n    <tr>\n      <th>4</th>\n      <td>168218</td>\n      <td>2023</td>\n      <td>5</td>\n    </tr>\n    <tr>\n      <th>...</th>\n      <td>...</td>\n      <td>...</td>\n      <td>...</td>\n    </tr>\n    <tr>\n      <th>5847</th>\n      <td>233718</td>\n      <td>1984</td>\n      <td>No Rank</td>\n    </tr>\n    <tr>\n      <th>5848</th>\n      <td>199865</td>\n      <td>1984</td>\n      <td>No Rank</td>\n    </tr>\n    <tr>\n      <th>5849</th>\n      <td>154527</td>\n      <td>1984</td>\n      <td>No Rank</td>\n    </tr>\n    <tr>\n      <th>5850</th>\n      <td>197230</td>\n      <td>1984</td>\n      <td>No Rank</td>\n    </tr>\n    <tr>\n      <th>5851</th>\n      <td>179946</td>\n      <td>1984</td>\n      <td>No Rank</td>\n    </tr>\n  </tbody>\n</table>\n<p>5852 rows × 3 columns</p>\n</div>"
     },
     "execution_count": 26,
     "metadata": {},
     "output_type": "execute_result"
    }
   ],
   "source": [
    "data = data.melt(id_vars=['IPEDSID'], var_name='Year', value_name='Ranking')\n",
    "data"
   ],
   "metadata": {
    "collapsed": false,
    "ExecuteTime": {
     "end_time": "2023-10-20T15:07:58.840169Z",
     "start_time": "2023-10-20T15:07:58.829470Z"
    }
   },
   "id": "f3667da6592e93c5"
  },
  {
   "cell_type": "code",
   "execution_count": 27,
   "outputs": [],
   "source": [
    "data.to_csv('/Users/serms/git/ODKG/HandsOn/Group08/csv2/US-News-Rankings-Liberal-Arts-Colleges-Through-2023-updated-2.csv', index=False)"
   ],
   "metadata": {
    "collapsed": false,
    "ExecuteTime": {
     "end_time": "2023-10-20T15:07:58.845707Z",
     "start_time": "2023-10-20T15:07:58.839464Z"
    }
   },
   "id": "2a344861a0b7e676"
  }
 ],
 "metadata": {
  "kernelspec": {
   "display_name": "Python 3",
   "language": "python",
   "name": "python3"
  },
  "language_info": {
   "codemirror_mode": {
    "name": "ipython",
    "version": 2
   },
   "file_extension": ".py",
   "mimetype": "text/x-python",
   "name": "python",
   "nbconvert_exporter": "python",
   "pygments_lexer": "ipython2",
   "version": "2.7.6"
  }
 },
 "nbformat": 4,
 "nbformat_minor": 5
}
